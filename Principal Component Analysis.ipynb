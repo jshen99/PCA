{
 "cells": [
  {
   "cell_type": "code",
   "execution_count": 1,
   "metadata": {},
   "outputs": [],
   "source": [
    "import numpy as np\n",
    "import pandas as pd\n",
    "from scipy import stats as sps\n",
    "from matplotlib import pyplot as plt\n",
    "from mpl_toolkits.mplot3d import Axes3D\n",
    "from IPython.display import display, Latex"
   ]
  },
  {
   "cell_type": "markdown",
   "metadata": {},
   "source": [
    "## Basis Matrix for Two-Dimensional Subspace"
   ]
  },
  {
   "cell_type": "code",
   "execution_count": 2,
   "metadata": {},
   "outputs": [
    {
     "name": "stdout",
     "output_type": "stream",
     "text": [
      "The rank of matrix A is 2\n"
     ]
    }
   ],
   "source": [
    "#Creates a 3X2 matrix whose entries are drawn from a Gaussian Distro\n",
    "A = np.random.randn(3,2)\n",
    "\n",
    "#Printing the rank of matrix A\n",
    "rank_A = np.linalg.matrix_rank(A)\n",
    "print(\"The rank of matrix A is {}\".format(rank_A))"
   ]
  },
  {
   "cell_type": "markdown",
   "metadata": {},
   "source": [
    "#### The dimension of the column space $\\mathbb{S}$ is always equal to the rank which in this case is 2"
   ]
  },
  {
   "cell_type": "markdown",
   "metadata": {},
   "source": [
    "## Generation of Dataset"
   ]
  },
  {
   "cell_type": "code",
   "execution_count": 3,
   "metadata": {},
   "outputs": [],
   "source": [
    "#Creating 250 iid random 2X1 matrices v, using np.random.randn(2,) to ensure that its a 1D array\n",
    "vs = [np.random.randn(2,) for i in range(0,250)]\n",
    "\n",
    "#Generating the 250 3X1 data samples x \n",
    "data_samples = [A.dot(v) for v in vs]"
   ]
  },
  {
   "cell_type": "code",
   "execution_count": 4,
   "metadata": {},
   "outputs": [],
   "source": [
    "#Converts the data_samples from a list of numpy arrays into its own 2D numpy array\n",
    "X = np.stack(data_samples)"
   ]
  },
  {
   "cell_type": "code",
   "execution_count": 5,
   "metadata": {},
   "outputs": [
    {
     "data": {
      "text/plain": [
       "(250, 3)"
      ]
     },
     "execution_count": 5,
     "metadata": {},
     "output_type": "execute_result"
    }
   ],
   "source": [
    "X.shape"
   ]
  },
  {
   "cell_type": "code",
   "execution_count": 6,
   "metadata": {},
   "outputs": [
    {
     "data": {
      "text/plain": [
       "2"
      ]
     },
     "execution_count": 6,
     "metadata": {},
     "output_type": "execute_result"
    }
   ],
   "source": [
    "#Finding rank of matrix X\n",
    "np.linalg.matrix_rank(X)"
   ]
  },
  {
   "cell_type": "markdown",
   "metadata": {},
   "source": [
    "## Singular Value and Eigenvalue Decomposition of Dataset"
   ]
  },
  {
   "cell_type": "code",
   "execution_count": 7,
   "metadata": {},
   "outputs": [],
   "source": [
    "#Finding the SVD of matrix X\n",
    "u, s, vh = np.linalg.svd(X)\n",
    "#Finding the eigendecomposition of XTX\n",
    "x_trans_x = X.transpose().dot(X)\n",
    "lamdas, eigvectors = np.linalg.eigh(x_trans_x)"
   ]
  },
  {
   "cell_type": "code",
   "execution_count": 8,
   "metadata": {},
   "outputs": [
    {
     "name": "stdout",
     "output_type": "stream",
     "text": [
      "[[ 0.92702924 -0.17934738  0.32931946]\n",
      " [ 0.0809376  -0.76181262 -0.64272127]\n",
      " [ 0.36615009  0.62247574 -0.69170663]]\n"
     ]
    }
   ],
   "source": [
    "print(eigvectors)"
   ]
  },
  {
   "cell_type": "code",
   "execution_count": 9,
   "metadata": {},
   "outputs": [
    {
     "name": "stdout",
     "output_type": "stream",
     "text": [
      "[[ 0.32931946 -0.17934738 -0.92702924]\n",
      " [-0.64272127 -0.76181262 -0.0809376 ]\n",
      " [-0.69170663  0.62247574 -0.36615009]]\n"
     ]
    }
   ],
   "source": [
    "print(vh.transpose())"
   ]
  },
  {
   "cell_type": "code",
   "execution_count": 10,
   "metadata": {},
   "outputs": [
    {
     "data": {
      "text/plain": [
       "array([3.14458720e+03, 4.23459415e+02, 3.73028683e-30])"
      ]
     },
     "execution_count": 10,
     "metadata": {},
     "output_type": "execute_result"
    }
   ],
   "source": [
    "np.square(s)"
   ]
  },
  {
   "cell_type": "code",
   "execution_count": 11,
   "metadata": {},
   "outputs": [
    {
     "data": {
      "text/plain": [
       "array([2.40685113e-13, 4.23459415e+02, 3.14458720e+03])"
      ]
     },
     "execution_count": 11,
     "metadata": {},
     "output_type": "execute_result"
    }
   ],
   "source": [
    "lamdas"
   ]
  },
  {
   "cell_type": "markdown",
   "metadata": {},
   "source": [
    "#### It's obvious that the square of the singular values is equal to the eigenvalues of $X^{T}$ because all the numbers match up except for the first element in the eigenvalues and the last in the square of the singular values, this is due to the finite precision of computers but in reality these numbers are just 0"
   ]
  },
  {
   "cell_type": "code",
   "execution_count": 12,
   "metadata": {},
   "outputs": [
    {
     "name": "stdout",
     "output_type": "stream",
     "text": [
      "The forbenius norm of X is 3568.0466188039168 and the sum of the square of the singular values is 3568.046618803917\n"
     ]
    }
   ],
   "source": [
    "#Checking energy is equal to sum of squares of singular values of X\n",
    "energy_X = (np.linalg.norm(X))**2\n",
    "sum_sqr_singularvals = np.sum(np.square(s))\n",
    "\n",
    "print('The forbenius norm of X is {} and the sum of the square of the singular values is {}'\n",
    "      .format(energy_X, sum_sqr_singularvals))"
   ]
  },
  {
   "cell_type": "markdown",
   "metadata": {},
   "source": [
    "#### The eigenvectors and eigenvalues of the sample covariance matrix $\\hat{C}:=\\frac{1}{n}X^{T}X$ are equal to eigenvalues and eigenvectors of $X^{T}X$ except for a factor of $\\frac{1}{n}$ which is insifnificant in our stated optimization problem for PCA"
   ]
  },
  {
   "cell_type": "code",
   "execution_count": 13,
   "metadata": {},
   "outputs": [
    {
     "data": {
      "text/plain": [
       "array([5.60766190e+01, 2.05781295e+01, 1.93139505e-15])"
      ]
     },
     "execution_count": 13,
     "metadata": {},
     "output_type": "execute_result"
    }
   ],
   "source": [
    "#Singular values of X\n",
    "s"
   ]
  },
  {
   "cell_type": "markdown",
   "metadata": {},
   "source": [
    "#### - We can see here that the last value in the singular values is not exactly 0 this is due to the limitations of computers because they have only finite precision so whenever some arithmetic is done there is a small residual left over that gets carried over through all the operations being done on that piece of data\n",
    "\n",
    "#### - The two largest singular vectors of $X$ are the basis for the subspace $\\mathbb{S}$ because there are only 2 independent vectors and also looking at the SVD of $X$ it's $X=USV^{T}$ the $US$ matrix can be combined to a single matrix let's denote it at $R$ with so then $X=RV^{T}$ this form makes it very obvious that the rows of $X$ are simply linear combinations of the rows of $V^{T}$ because $R$ multiplies on the left. Therefore the rows of $X$ are just composed of linear combinations of the rows $V^{T}$ so the row space of $X$ must be equal to the row space of $V^{T}$ which in really the columns space of $V$ so the first 2 signular vectors are the basis for the subspace."
   ]
  },
  {
   "cell_type": "markdown",
   "metadata": {},
   "source": [
    "## PCA of Dataset: PCA Features, Reconstruction, and Error"
   ]
  },
  {
   "cell_type": "markdown",
   "metadata": {},
   "source": [
    "#### Only 2 principle components are actually necessary to describe the variation in the data because while the data is 3 x 250 its rank is only 2 which means the subspace it describes is just 2 dimensional"
   ]
  },
  {
   "cell_type": "code",
   "execution_count": 14,
   "metadata": {},
   "outputs": [
    {
     "data": {
      "text/plain": [
       "0.07383385486699366"
      ]
     },
     "execution_count": 14,
     "metadata": {},
     "output_type": "execute_result"
    }
   ],
   "source": [
    "rand_x = np.random.randn(3,1)\n",
    "np.mean(rand_x)"
   ]
  },
  {
   "cell_type": "code",
   "execution_count": 15,
   "metadata": {},
   "outputs": [],
   "source": [
    "mu_hat = np.mean(X, axis = 0)"
   ]
  },
  {
   "cell_type": "markdown",
   "metadata": {},
   "source": [
    "#### As we can see the means are indeed small and close to 0"
   ]
  },
  {
   "cell_type": "markdown",
   "metadata": {},
   "source": [
    "#### The top principal component directions or loading vectors form the solution to the optimization problem posed by PCA the top $k$ right singular vectors of $X$ become the rows of our matrix $M$ used to reduce the dimensionality of our dataset from $p$ to $k$ where $k \\leq p$"
   ]
  },
  {
   "cell_type": "code",
   "execution_count": 16,
   "metadata": {},
   "outputs": [
    {
     "data": {
      "text/plain": [
       "array([[ 0.32931946, -0.17934738],\n",
       "       [-0.64272127, -0.76181262],\n",
       "       [-0.69170663,  0.62247574]])"
      ]
     },
     "execution_count": 16,
     "metadata": {},
     "output_type": "execute_result"
    }
   ],
   "source": [
    "U = vh.transpose()[:, [0,1]]\n",
    "U"
   ]
  },
  {
   "cell_type": "markdown",
   "metadata": {},
   "source": [
    "#### The projection of our original data matrix $X$ unto the new solution of our PCA problem returns back the PRINCIPLE COMPONENTS of $X$ or the \"principle features\""
   ]
  },
  {
   "cell_type": "code",
   "execution_count": 17,
   "metadata": {},
   "outputs": [],
   "source": [
    "#This operation takes the loading vectors or the principle component directions and puts them as the rows in M\n",
    "M = U.transpose()\n",
    "#We multiply M with X transpose because we are multiplying M by each ROW in X\n",
    "X_tilda = M.dot(X.transpose())"
   ]
  },
  {
   "cell_type": "markdown",
   "metadata": {},
   "source": [
    "#### The reconstruction(approximate) of the original data samples $x_{i}$ is found by projecting the principal features back"
   ]
  },
  {
   "cell_type": "code",
   "execution_count": 18,
   "metadata": {},
   "outputs": [],
   "source": [
    "#The transpose at the end is necessary in order to keep the convention of each row containing a data sample\n",
    "X_hat = (U.dot(X_tilda)).transpose()"
   ]
  },
  {
   "cell_type": "code",
   "execution_count": 19,
   "metadata": {},
   "outputs": [
    {
     "data": {
      "text/plain": [
       "5.79650890925618e-28"
      ]
     },
     "execution_count": 19,
     "metadata": {},
     "output_type": "execute_result"
    }
   ],
   "source": [
    "rep_error = (np.linalg.norm(X_hat-X))**2\n",
    "rep_error"
   ]
  },
  {
   "cell_type": "markdown",
   "metadata": {},
   "source": [
    "#### The error is practically 0 as expected"
   ]
  },
  {
   "cell_type": "code",
   "execution_count": 20,
   "metadata": {},
   "outputs": [],
   "source": [
    "#Top loading vector/Principle component direction\n",
    "top_PCD = U[:,0]\n",
    "X_topPCD = (top_PCD.dot(X.transpose())).transpose()"
   ]
  },
  {
   "cell_type": "code",
   "execution_count": 21,
   "metadata": {},
   "outputs": [],
   "source": [
    "top_PCD = top_PCD.reshape(3,1)\n",
    "X_hat_topPCD = (top_PCD.dot(top_PCD.transpose()).dot(X.transpose())).transpose()"
   ]
  },
  {
   "cell_type": "code",
   "execution_count": 22,
   "metadata": {},
   "outputs": [
    {
     "data": {
      "text/plain": [
       "1.693837661386329"
      ]
     },
     "execution_count": 22,
     "metadata": {},
     "output_type": "execute_result"
    }
   ],
   "source": [
    "rep_error_topPCD = (1/250)*np.linalg.norm(X_hat_topPCD-X)**2\n",
    "rep_error_topPCD"
   ]
  },
  {
   "cell_type": "code",
   "execution_count": 23,
   "metadata": {},
   "outputs": [
    {
     "data": {
      "text/plain": [
       "1.6938376613863284"
      ]
     },
     "execution_count": 23,
     "metadata": {},
     "output_type": "execute_result"
    }
   ],
   "source": [
    "#Extracting the second singular value\n",
    "sigma2 = s[1]\n",
    "(sigma2**2)/250"
   ]
  },
  {
   "cell_type": "markdown",
   "metadata": {},
   "source": [
    "#### Clearly the new representation error is $\\frac{1}{n}$ of the square of the second singular value "
   ]
  },
  {
   "cell_type": "markdown",
   "metadata": {},
   "source": [
    "#### Plotting the original data on a 3D scatterplot"
   ]
  },
  {
   "cell_type": "code",
   "execution_count": 24,
   "metadata": {},
   "outputs": [
    {
     "data": {
      "text/plain": [
       "<mpl_toolkits.mplot3d.art3d.Path3DCollection at 0x2ab19bdccd30>"
      ]
     },
     "execution_count": 24,
     "metadata": {},
     "output_type": "execute_result"
    },
    {
     "data": {
      "image/png": "[encoded data removed]",
      "text/plain": [
       "<Figure size 432x288 with 1 Axes>"
      ]
     },
     "metadata": {
      "needs_background": "light"
     },
     "output_type": "display_data"
    }
   ],
   "source": [
    "fig = plt.figure()\n",
    "ax = fig.add_subplot(111, projection='3d')\n",
    "\n",
    "ax.scatter(X[:,0],X[:,1], X[:,2])"
   ]
  },
  {
   "cell_type": "markdown",
   "metadata": {},
   "source": [
    "#### Plotting the reconstructed data corresponding to the top principal component"
   ]
  },
  {
   "cell_type": "code",
   "execution_count": 25,
   "metadata": {},
   "outputs": [
    {
     "data": {
      "text/plain": [
       "<mpl_toolkits.mplot3d.art3d.Path3DCollection at 0x2ab19be9fdd8>"
      ]
     },
     "execution_count": 25,
     "metadata": {},
     "output_type": "execute_result"
    },
    {
     "data": {
      "image/png": "[encoded data removed]",
      "text/plain": [
       "<Figure size 432x288 with 1 Axes>"
      ]
     },
     "metadata": {
      "needs_background": "light"
     },
     "output_type": "display_data"
    }
   ],
   "source": [
    "fig1 = plt.figure()\n",
    "ax1 = fig1.add_subplot(111, projection = '3d')\n",
    "\n",
    "ax1.scatter(X_hat_topPCD[:,0],X_hat_topPCD[:,1])"
   ]
  },
  {
   "cell_type": "code",
   "execution_count": 26,
   "metadata": {},
   "outputs": [
    {
     "data": {
      "text/plain": [
       "array([ 0.05404601, -0.09966489, -0.11480426])"
      ]
     },
     "execution_count": 26,
     "metadata": {},
     "output_type": "execute_result"
    }
   ],
   "source": [
    "mu_hat"
   ]
  }
 ],
 "metadata": {
  "kernelspec": {
   "display_name": "Python 3",
   "language": "python",
   "name": "python3"
  },
  "language_info": {
   "codemirror_mode": {
    "name": "ipython",
    "version": 3
   },
   "file_extension": ".py",
   "mimetype": "text/x-python",
   "name": "python",
   "nbconvert_exporter": "python",
   "pygments_lexer": "ipython3",
   "version": "3.7.3"
  }
 },
 "nbformat": 4,
 "nbformat_minor": 4
}
